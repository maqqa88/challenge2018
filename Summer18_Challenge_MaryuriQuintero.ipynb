{
  "nbformat": 4,
  "nbformat_minor": 0,
  "metadata": {
    "colab": {
      "name": "Summer18-Challenge-MaryuriQuintero.ipynb",
      "version": "0.3.2",
      "views": {},
      "default_view": {},
      "provenance": []
    },
    "kernelspec": {
      "name": "python3",
      "display_name": "Python 3"
    }
  },
  "cells": [
    {
      "metadata": {
        "id": "bFmawAGNRzMx",
        "colab_type": "text"
      },
      "cell_type": "markdown",
      "source": [
        "# The Data Incubator Challenge 2018\n",
        "## by Maryuri Quintero\n"
      ]
    },
    {
      "metadata": {
        "id": "wOetuZlONQnw",
        "colab_type": "text"
      },
      "cell_type": "markdown",
      "source": [
        "The lack of education is decreasing the chances of improvement in many places around the world. When people do not have access to education, they mislead their energy to find success in activities that do not contribute to the society where they live.  The World Bank has provided data regarding the education in more than 200 economies around the world. I propose to analyze the given education data to find the key factors that decrease the opportunities for getting an appropriate education in different parts of the world."
      ]
    },
    {
      "metadata": {
        "id": "Uct0dFZnR8fY",
        "colab_type": "code",
        "colab": {
          "autoexec": {
            "startup": false,
            "wait_interval": 0
          }
        }
      },
      "cell_type": "code",
      "source": [
        "#IMPORTING LIBRARIES\n",
        "from __future__ import print_function\n",
        "import os\n",
        "import pandas as pd\n",
        "import numpy as np\n",
        "%matplotlib inline\n",
        "from matplotlib import pyplot as plt"
      ],
      "execution_count": 0,
      "outputs": []
    },
    {
      "metadata": {
        "id": "CfuN6p8zSabn",
        "colab_type": "code",
        "colab": {
          "autoexec": {
            "startup": false,
            "wait_interval": 0
          },
          "base_uri": "https://localhost:8080/",
          "height": 91
        },
        "outputId": "a9ef65da-c3d7-4d2f-d537-67680b18169a",
        "executionInfo": {
          "status": "ok",
          "timestamp": 1532378835116,
          "user_tz": 300,
          "elapsed": 1317201,
          "user": {
            "displayName": "Ezequiel Orlando Aguilar González",
            "photoUrl": "//lh6.googleusercontent.com/-69UlXCjGhhg/AAAAAAAAAAI/AAAAAAAAN2c/hXtuliUqL_8/s50-c-k-no/photo.jpg",
            "userId": "101628293694401762827"
          }
        }
      },
      "cell_type": "code",
      "source": [
        "from google.colab import files\n",
        "\n",
        "uploaded = files.upload()\n",
        "\n",
        "for fn in uploaded.keys():\n",
        "  print('User uploaded file \"{name}\" with length {length} bytes'.format(\n",
        "      name=fn, length=len(uploaded[fn])))"
      ],
      "execution_count": 19,
      "outputs": [
        {
          "output_type": "display_data",
          "data": {
            "text/html": [
              "\n",
              "     <input type=\"file\" id=\"files-5d1ed082-170f-420c-b786-16d829c49181\" name=\"files[]\" multiple disabled />\n",
              "     <output id=\"result-5d1ed082-170f-420c-b786-16d829c49181\">\n",
              "      Upload widget is only available when the cell has been executed in the\n",
              "      current browser session. Please rerun this cell to enable.\n",
              "      </output>\n",
              "      <script src=\"/nbextensions/google.colab/files.js\"></script> "
            ],
            "text/plain": [
              "<IPython.core.display.HTML object>"
            ]
          },
          "metadata": {
            "tags": []
          }
        },
        {
          "output_type": "stream",
          "text": [
            "Saving EdStatsData.csv to EdStatsData (1).csv\n",
            "User uploaded file \"EdStatsData.csv\" with length 326426040 bytes\n"
          ],
          "name": "stdout"
        }
      ]
    },
    {
      "metadata": {
        "id": "hTuNZtisWWxJ",
        "colab_type": "code",
        "colab": {
          "autoexec": {
            "startup": false,
            "wait_interval": 0
          },
          "base_uri": "https://localhost:8080/",
          "height": 35
        },
        "outputId": "9d86c7f7-2a1e-4de7-af24-1e083c055dda",
        "executionInfo": {
          "status": "ok",
          "timestamp": 1532378995390,
          "user_tz": 300,
          "elapsed": 7950,
          "user": {
            "displayName": "Ezequiel Orlando Aguilar González",
            "photoUrl": "//lh6.googleusercontent.com/-69UlXCjGhhg/AAAAAAAAAAI/AAAAAAAAN2c/hXtuliUqL_8/s50-c-k-no/photo.jpg",
            "userId": "101628293694401762827"
          }
        }
      },
      "cell_type": "code",
      "source": [
        "file_name = \"EdStatsData (1).csv\"\n",
        "\n",
        "project = pd.read_csv(file_name)   \n",
        " \n",
        "print(project.shape)             #Number of observations and variables in the dataset"
      ],
      "execution_count": 20,
      "outputs": [
        {
          "output_type": "stream",
          "text": [
            "(886930, 70)\n"
          ],
          "name": "stdout"
        }
      ]
    },
    {
      "metadata": {
        "id": "2iypeuP0QYHh",
        "colab_type": "text"
      },
      "cell_type": "markdown",
      "source": [
        "#Data Exploration"
      ]
    },
    {
      "metadata": {
        "id": "_dIrTfZLcM_A",
        "colab_type": "code",
        "colab": {
          "autoexec": {
            "startup": false,
            "wait_interval": 0
          },
          "base_uri": "https://localhost:8080/",
          "height": 695
        },
        "outputId": "e2da8df3-24fc-4088-a3d9-4f24ec88b366",
        "executionInfo": {
          "status": "ok",
          "timestamp": 1532379026987,
          "user_tz": 300,
          "elapsed": 268,
          "user": {
            "displayName": "Ezequiel Orlando Aguilar González",
            "photoUrl": "//lh6.googleusercontent.com/-69UlXCjGhhg/AAAAAAAAAAI/AAAAAAAAN2c/hXtuliUqL_8/s50-c-k-no/photo.jpg",
            "userId": "101628293694401762827"
          }
        }
      },
      "cell_type": "code",
      "source": [
        "project.head(5)  # First 5 rows of the dataset"
      ],
      "execution_count": 22,
      "outputs": [
        {
          "output_type": "execute_result",
          "data": {
            "text/html": [
              "<div>\n",
              "<style scoped>\n",
              "    .dataframe tbody tr th:only-of-type {\n",
              "        vertical-align: middle;\n",
              "    }\n",
              "\n",
              "    .dataframe tbody tr th {\n",
              "        vertical-align: top;\n",
              "    }\n",
              "\n",
              "    .dataframe thead th {\n",
              "        text-align: right;\n",
              "    }\n",
              "</style>\n",
              "<table border=\"1\" class=\"dataframe\">\n",
              "  <thead>\n",
              "    <tr style=\"text-align: right;\">\n",
              "      <th></th>\n",
              "      <th>Country Name</th>\n",
              "      <th>Country Code</th>\n",
              "      <th>Indicator Name</th>\n",
              "      <th>Indicator Code</th>\n",
              "      <th>1970</th>\n",
              "      <th>1971</th>\n",
              "      <th>1972</th>\n",
              "      <th>1973</th>\n",
              "      <th>1974</th>\n",
              "      <th>1975</th>\n",
              "      <th>...</th>\n",
              "      <th>2060</th>\n",
              "      <th>2065</th>\n",
              "      <th>2070</th>\n",
              "      <th>2075</th>\n",
              "      <th>2080</th>\n",
              "      <th>2085</th>\n",
              "      <th>2090</th>\n",
              "      <th>2095</th>\n",
              "      <th>2100</th>\n",
              "      <th>Unnamed: 69</th>\n",
              "    </tr>\n",
              "  </thead>\n",
              "  <tbody>\n",
              "    <tr>\n",
              "      <th>0</th>\n",
              "      <td>Arab World</td>\n",
              "      <td>ARB</td>\n",
              "      <td>Adjusted net enrolment rate, lower secondary, ...</td>\n",
              "      <td>UIS.NERA.2</td>\n",
              "      <td>NaN</td>\n",
              "      <td>NaN</td>\n",
              "      <td>NaN</td>\n",
              "      <td>NaN</td>\n",
              "      <td>NaN</td>\n",
              "      <td>NaN</td>\n",
              "      <td>...</td>\n",
              "      <td>NaN</td>\n",
              "      <td>NaN</td>\n",
              "      <td>NaN</td>\n",
              "      <td>NaN</td>\n",
              "      <td>NaN</td>\n",
              "      <td>NaN</td>\n",
              "      <td>NaN</td>\n",
              "      <td>NaN</td>\n",
              "      <td>NaN</td>\n",
              "      <td>NaN</td>\n",
              "    </tr>\n",
              "    <tr>\n",
              "      <th>1</th>\n",
              "      <td>Arab World</td>\n",
              "      <td>ARB</td>\n",
              "      <td>Adjusted net enrolment rate, lower secondary, ...</td>\n",
              "      <td>UIS.NERA.2.F</td>\n",
              "      <td>NaN</td>\n",
              "      <td>NaN</td>\n",
              "      <td>NaN</td>\n",
              "      <td>NaN</td>\n",
              "      <td>NaN</td>\n",
              "      <td>NaN</td>\n",
              "      <td>...</td>\n",
              "      <td>NaN</td>\n",
              "      <td>NaN</td>\n",
              "      <td>NaN</td>\n",
              "      <td>NaN</td>\n",
              "      <td>NaN</td>\n",
              "      <td>NaN</td>\n",
              "      <td>NaN</td>\n",
              "      <td>NaN</td>\n",
              "      <td>NaN</td>\n",
              "      <td>NaN</td>\n",
              "    </tr>\n",
              "    <tr>\n",
              "      <th>2</th>\n",
              "      <td>Arab World</td>\n",
              "      <td>ARB</td>\n",
              "      <td>Adjusted net enrolment rate, lower secondary, ...</td>\n",
              "      <td>UIS.NERA.2.GPI</td>\n",
              "      <td>NaN</td>\n",
              "      <td>NaN</td>\n",
              "      <td>NaN</td>\n",
              "      <td>NaN</td>\n",
              "      <td>NaN</td>\n",
              "      <td>NaN</td>\n",
              "      <td>...</td>\n",
              "      <td>NaN</td>\n",
              "      <td>NaN</td>\n",
              "      <td>NaN</td>\n",
              "      <td>NaN</td>\n",
              "      <td>NaN</td>\n",
              "      <td>NaN</td>\n",
              "      <td>NaN</td>\n",
              "      <td>NaN</td>\n",
              "      <td>NaN</td>\n",
              "      <td>NaN</td>\n",
              "    </tr>\n",
              "    <tr>\n",
              "      <th>3</th>\n",
              "      <td>Arab World</td>\n",
              "      <td>ARB</td>\n",
              "      <td>Adjusted net enrolment rate, lower secondary, ...</td>\n",
              "      <td>UIS.NERA.2.M</td>\n",
              "      <td>NaN</td>\n",
              "      <td>NaN</td>\n",
              "      <td>NaN</td>\n",
              "      <td>NaN</td>\n",
              "      <td>NaN</td>\n",
              "      <td>NaN</td>\n",
              "      <td>...</td>\n",
              "      <td>NaN</td>\n",
              "      <td>NaN</td>\n",
              "      <td>NaN</td>\n",
              "      <td>NaN</td>\n",
              "      <td>NaN</td>\n",
              "      <td>NaN</td>\n",
              "      <td>NaN</td>\n",
              "      <td>NaN</td>\n",
              "      <td>NaN</td>\n",
              "      <td>NaN</td>\n",
              "    </tr>\n",
              "    <tr>\n",
              "      <th>4</th>\n",
              "      <td>Arab World</td>\n",
              "      <td>ARB</td>\n",
              "      <td>Adjusted net enrolment rate, primary, both sex...</td>\n",
              "      <td>SE.PRM.TENR</td>\n",
              "      <td>54.822121</td>\n",
              "      <td>54.894138</td>\n",
              "      <td>56.209438</td>\n",
              "      <td>57.267109</td>\n",
              "      <td>57.991138</td>\n",
              "      <td>59.36554</td>\n",
              "      <td>...</td>\n",
              "      <td>NaN</td>\n",
              "      <td>NaN</td>\n",
              "      <td>NaN</td>\n",
              "      <td>NaN</td>\n",
              "      <td>NaN</td>\n",
              "      <td>NaN</td>\n",
              "      <td>NaN</td>\n",
              "      <td>NaN</td>\n",
              "      <td>NaN</td>\n",
              "      <td>NaN</td>\n",
              "    </tr>\n",
              "  </tbody>\n",
              "</table>\n",
              "<p>5 rows × 70 columns</p>\n",
              "</div>"
            ],
            "text/plain": [
              "  Country Name Country Code  \\\n",
              "0   Arab World          ARB   \n",
              "1   Arab World          ARB   \n",
              "2   Arab World          ARB   \n",
              "3   Arab World          ARB   \n",
              "4   Arab World          ARB   \n",
              "\n",
              "                                      Indicator Name  Indicator Code  \\\n",
              "0  Adjusted net enrolment rate, lower secondary, ...      UIS.NERA.2   \n",
              "1  Adjusted net enrolment rate, lower secondary, ...    UIS.NERA.2.F   \n",
              "2  Adjusted net enrolment rate, lower secondary, ...  UIS.NERA.2.GPI   \n",
              "3  Adjusted net enrolment rate, lower secondary, ...    UIS.NERA.2.M   \n",
              "4  Adjusted net enrolment rate, primary, both sex...     SE.PRM.TENR   \n",
              "\n",
              "        1970       1971       1972       1973       1974      1975  \\\n",
              "0        NaN        NaN        NaN        NaN        NaN       NaN   \n",
              "1        NaN        NaN        NaN        NaN        NaN       NaN   \n",
              "2        NaN        NaN        NaN        NaN        NaN       NaN   \n",
              "3        NaN        NaN        NaN        NaN        NaN       NaN   \n",
              "4  54.822121  54.894138  56.209438  57.267109  57.991138  59.36554   \n",
              "\n",
              "      ...       2060  2065  2070  2075  2080  2085  2090  2095  2100  \\\n",
              "0     ...        NaN   NaN   NaN   NaN   NaN   NaN   NaN   NaN   NaN   \n",
              "1     ...        NaN   NaN   NaN   NaN   NaN   NaN   NaN   NaN   NaN   \n",
              "2     ...        NaN   NaN   NaN   NaN   NaN   NaN   NaN   NaN   NaN   \n",
              "3     ...        NaN   NaN   NaN   NaN   NaN   NaN   NaN   NaN   NaN   \n",
              "4     ...        NaN   NaN   NaN   NaN   NaN   NaN   NaN   NaN   NaN   \n",
              "\n",
              "   Unnamed: 69  \n",
              "0          NaN  \n",
              "1          NaN  \n",
              "2          NaN  \n",
              "3          NaN  \n",
              "4          NaN  \n",
              "\n",
              "[5 rows x 70 columns]"
            ]
          },
          "metadata": {
            "tags": []
          },
          "execution_count": 22
        }
      ]
    },
    {
      "metadata": {
        "id": "_bDu97JAcVKf",
        "colab_type": "code",
        "colab": {
          "autoexec": {
            "startup": false,
            "wait_interval": 0
          }
        }
      },
      "cell_type": "code",
      "source": [
        "project.loc[:,'Country Name':'Indicator Code'].describe()"
      ],
      "execution_count": 0,
      "outputs": []
    },
    {
      "metadata": {
        "id": "zAMUhsZlcB3a",
        "colab_type": "code",
        "colab": {
          "autoexec": {
            "startup": false,
            "wait_interval": 0
          },
          "base_uri": "https://localhost:8080/",
          "height": 1169
        },
        "outputId": "7780e781-e747-4921-99b7-c2abc75e0c62",
        "executionInfo": {
          "status": "ok",
          "timestamp": 1532384598640,
          "user_tz": 300,
          "elapsed": 513,
          "user": {
            "displayName": "Ezequiel Orlando Aguilar González",
            "photoUrl": "//lh6.googleusercontent.com/-69UlXCjGhhg/AAAAAAAAAAI/AAAAAAAAN2c/hXtuliUqL_8/s50-c-k-no/photo.jpg",
            "userId": "101628293694401762827"
          }
        }
      },
      "cell_type": "code",
      "source": [
        "countries = project.loc[:,['Country Name','Country Code']].drop_duplicates()\n",
        "print (countries)"
      ],
      "execution_count": 57,
      "outputs": [
        {
          "output_type": "stream",
          "text": [
            "                                             Country Name Country Code\n",
            "0                                              Arab World          ARB\n",
            "3665                                  East Asia & Pacific          EAS\n",
            "7330          East Asia & Pacific (excluding high income)          EAP\n",
            "10995                                           Euro area          EMU\n",
            "14660                               Europe & Central Asia          ECS\n",
            "18325       Europe & Central Asia (excluding high income)          ECA\n",
            "21990                                      European Union          EUU\n",
            "25655              Heavily indebted poor countries (HIPC)          HPC\n",
            "29320                                         High income          HIC\n",
            "32985                           Latin America & Caribbean          LCN\n",
            "36650   Latin America & Caribbean (excluding high income)          LAC\n",
            "40315        Least developed countries: UN classification          LDC\n",
            "43980                                 Low & middle income          LMY\n",
            "47645                                          Low income          LIC\n",
            "51310                                 Lower middle income          LMC\n",
            "54975                          Middle East & North Africa          MEA\n",
            "58640   Middle East & North Africa (excluding high inc...          MNA\n",
            "62305                                       Middle income          MIC\n",
            "65970                                       North America          NAC\n",
            "69635                                        OECD members          OED\n",
            "73300                                          South Asia          SAS\n",
            "76965                                  Sub-Saharan Africa          SSF\n",
            "80630          Sub-Saharan Africa (excluding high income)          SSA\n",
            "84295                                 Upper middle income          UMC\n",
            "87960                                               World          WLD\n",
            "91625                                         Afghanistan          AFG\n",
            "95290                                             Albania          ALB\n",
            "98955                                             Algeria          DZA\n",
            "102620                                     American Samoa          ASM\n",
            "106285                                            Andorra          AND\n",
            "...                                                   ...          ...\n",
            "776980                                             Sweden          SWE\n",
            "780645                                        Switzerland          CHE\n",
            "784310                               Syrian Arab Republic          SYR\n",
            "787975                                         Tajikistan          TJK\n",
            "791640                                           Tanzania          TZA\n",
            "795305                                           Thailand          THA\n",
            "798970                                        Timor-Leste          TLS\n",
            "802635                                               Togo          TGO\n",
            "806300                                              Tonga          TON\n",
            "809965                                Trinidad and Tobago          TTO\n",
            "813630                                            Tunisia          TUN\n",
            "817295                                             Turkey          TUR\n",
            "820960                                       Turkmenistan          TKM\n",
            "824625                           Turks and Caicos Islands          TCA\n",
            "828290                                             Tuvalu          TUV\n",
            "831955                                             Uganda          UGA\n",
            "835620                                            Ukraine          UKR\n",
            "839285                               United Arab Emirates          ARE\n",
            "842950                                     United Kingdom          GBR\n",
            "846615                                      United States          USA\n",
            "850280                                            Uruguay          URY\n",
            "853945                                         Uzbekistan          UZB\n",
            "857610                                            Vanuatu          VUT\n",
            "861275                                      Venezuela, RB          VEN\n",
            "864940                                            Vietnam          VNM\n",
            "868605                              Virgin Islands (U.S.)          VIR\n",
            "872270                                 West Bank and Gaza          PSE\n",
            "875935                                        Yemen, Rep.          YEM\n",
            "879600                                             Zambia          ZMB\n",
            "883265                                           Zimbabwe          ZWE\n",
            "\n",
            "[242 rows x 2 columns]\n"
          ],
          "name": "stdout"
        }
      ]
    },
    {
      "metadata": {
        "id": "fEWaPBHc93El",
        "colab_type": "code",
        "colab": {
          "autoexec": {
            "startup": false,
            "wait_interval": 0
          },
          "base_uri": "https://localhost:8080/",
          "height": 204
        },
        "outputId": "da2c8770-e884-4cda-cac8-f7663391b297",
        "executionInfo": {
          "status": "ok",
          "timestamp": 1532380043108,
          "user_tz": 300,
          "elapsed": 456,
          "user": {
            "displayName": "Ezequiel Orlando Aguilar González",
            "photoUrl": "//lh6.googleusercontent.com/-69UlXCjGhhg/AAAAAAAAAAI/AAAAAAAAN2c/hXtuliUqL_8/s50-c-k-no/photo.jpg",
            "userId": "101628293694401762827"
          }
        }
      },
      "cell_type": "code",
      "source": [
        "#Identifying unique indicators \n",
        "indicators = project.loc[:,['Indicator Name','Indicator Code']].drop_duplicates()\n",
        "indicators.head()"
      ],
      "execution_count": 32,
      "outputs": [
        {
          "output_type": "execute_result",
          "data": {
            "text/html": [
              "<div>\n",
              "<style scoped>\n",
              "    .dataframe tbody tr th:only-of-type {\n",
              "        vertical-align: middle;\n",
              "    }\n",
              "\n",
              "    .dataframe tbody tr th {\n",
              "        vertical-align: top;\n",
              "    }\n",
              "\n",
              "    .dataframe thead th {\n",
              "        text-align: right;\n",
              "    }\n",
              "</style>\n",
              "<table border=\"1\" class=\"dataframe\">\n",
              "  <thead>\n",
              "    <tr style=\"text-align: right;\">\n",
              "      <th></th>\n",
              "      <th>Indicator Name</th>\n",
              "      <th>Indicator Code</th>\n",
              "    </tr>\n",
              "  </thead>\n",
              "  <tbody>\n",
              "    <tr>\n",
              "      <th>0</th>\n",
              "      <td>Adjusted net enrolment rate, lower secondary, ...</td>\n",
              "      <td>UIS.NERA.2</td>\n",
              "    </tr>\n",
              "    <tr>\n",
              "      <th>1</th>\n",
              "      <td>Adjusted net enrolment rate, lower secondary, ...</td>\n",
              "      <td>UIS.NERA.2.F</td>\n",
              "    </tr>\n",
              "    <tr>\n",
              "      <th>2</th>\n",
              "      <td>Adjusted net enrolment rate, lower secondary, ...</td>\n",
              "      <td>UIS.NERA.2.GPI</td>\n",
              "    </tr>\n",
              "    <tr>\n",
              "      <th>3</th>\n",
              "      <td>Adjusted net enrolment rate, lower secondary, ...</td>\n",
              "      <td>UIS.NERA.2.M</td>\n",
              "    </tr>\n",
              "    <tr>\n",
              "      <th>4</th>\n",
              "      <td>Adjusted net enrolment rate, primary, both sex...</td>\n",
              "      <td>SE.PRM.TENR</td>\n",
              "    </tr>\n",
              "  </tbody>\n",
              "</table>\n",
              "</div>"
            ],
            "text/plain": [
              "                                      Indicator Name  Indicator Code\n",
              "0  Adjusted net enrolment rate, lower secondary, ...      UIS.NERA.2\n",
              "1  Adjusted net enrolment rate, lower secondary, ...    UIS.NERA.2.F\n",
              "2  Adjusted net enrolment rate, lower secondary, ...  UIS.NERA.2.GPI\n",
              "3  Adjusted net enrolment rate, lower secondary, ...    UIS.NERA.2.M\n",
              "4  Adjusted net enrolment rate, primary, both sex...     SE.PRM.TENR"
            ]
          },
          "metadata": {
            "tags": []
          },
          "execution_count": 32
        }
      ]
    },
    {
      "metadata": {
        "id": "Xz2tR11h-ocJ",
        "colab_type": "code",
        "colab": {
          "autoexec": {
            "startup": false,
            "wait_interval": 0
          },
          "base_uri": "https://localhost:8080/",
          "height": 80
        },
        "outputId": "cd8639e8-23d2-4274-8960-58bf79918db3",
        "executionInfo": {
          "status": "ok",
          "timestamp": 1532380226747,
          "user_tz": 300,
          "elapsed": 268,
          "user": {
            "displayName": "Ezequiel Orlando Aguilar González",
            "photoUrl": "//lh6.googleusercontent.com/-69UlXCjGhhg/AAAAAAAAAAI/AAAAAAAAN2c/hXtuliUqL_8/s50-c-k-no/photo.jpg",
            "userId": "101628293694401762827"
          }
        }
      },
      "cell_type": "code",
      "source": [
        "countries[countries['Country Name'].str.contains('Panama')]"
      ],
      "execution_count": 33,
      "outputs": [
        {
          "output_type": "execute_result",
          "data": {
            "text/html": [
              "<div>\n",
              "<style scoped>\n",
              "    .dataframe tbody tr th:only-of-type {\n",
              "        vertical-align: middle;\n",
              "    }\n",
              "\n",
              "    .dataframe tbody tr th {\n",
              "        vertical-align: top;\n",
              "    }\n",
              "\n",
              "    .dataframe thead th {\n",
              "        text-align: right;\n",
              "    }\n",
              "</style>\n",
              "<table border=\"1\" class=\"dataframe\">\n",
              "  <thead>\n",
              "    <tr style=\"text-align: right;\">\n",
              "      <th></th>\n",
              "      <th>Country Name</th>\n",
              "      <th>Country Code</th>\n",
              "    </tr>\n",
              "  </thead>\n",
              "  <tbody>\n",
              "    <tr>\n",
              "      <th>641375</th>\n",
              "      <td>Panama</td>\n",
              "      <td>PAN</td>\n",
              "    </tr>\n",
              "  </tbody>\n",
              "</table>\n",
              "</div>"
            ],
            "text/plain": [
              "       Country Name Country Code\n",
              "641375       Panama          PAN"
            ]
          },
          "metadata": {
            "tags": []
          },
          "execution_count": 33
        }
      ]
    },
    {
      "metadata": {
        "id": "PIBJAAZ6-utI",
        "colab_type": "code",
        "colab": {
          "autoexec": {
            "startup": false,
            "wait_interval": 0
          },
          "base_uri": "https://localhost:8080/",
          "height": 695
        },
        "outputId": "ee332cc6-3def-4497-c3b7-be1060cbf5e6",
        "executionInfo": {
          "status": "ok",
          "timestamp": 1532380281177,
          "user_tz": 300,
          "elapsed": 515,
          "user": {
            "displayName": "Ezequiel Orlando Aguilar González",
            "photoUrl": "//lh6.googleusercontent.com/-69UlXCjGhhg/AAAAAAAAAAI/AAAAAAAAN2c/hXtuliUqL_8/s50-c-k-no/photo.jpg",
            "userId": "101628293694401762827"
          }
        }
      },
      "cell_type": "code",
      "source": [
        "panama = project.loc[project['Country Code']=='PAN']\n",
        "panama.head()"
      ],
      "execution_count": 35,
      "outputs": [
        {
          "output_type": "execute_result",
          "data": {
            "text/html": [
              "<div>\n",
              "<style scoped>\n",
              "    .dataframe tbody tr th:only-of-type {\n",
              "        vertical-align: middle;\n",
              "    }\n",
              "\n",
              "    .dataframe tbody tr th {\n",
              "        vertical-align: top;\n",
              "    }\n",
              "\n",
              "    .dataframe thead th {\n",
              "        text-align: right;\n",
              "    }\n",
              "</style>\n",
              "<table border=\"1\" class=\"dataframe\">\n",
              "  <thead>\n",
              "    <tr style=\"text-align: right;\">\n",
              "      <th></th>\n",
              "      <th>Country Name</th>\n",
              "      <th>Country Code</th>\n",
              "      <th>Indicator Name</th>\n",
              "      <th>Indicator Code</th>\n",
              "      <th>1970</th>\n",
              "      <th>1971</th>\n",
              "      <th>1972</th>\n",
              "      <th>1973</th>\n",
              "      <th>1974</th>\n",
              "      <th>1975</th>\n",
              "      <th>...</th>\n",
              "      <th>2060</th>\n",
              "      <th>2065</th>\n",
              "      <th>2070</th>\n",
              "      <th>2075</th>\n",
              "      <th>2080</th>\n",
              "      <th>2085</th>\n",
              "      <th>2090</th>\n",
              "      <th>2095</th>\n",
              "      <th>2100</th>\n",
              "      <th>Unnamed: 69</th>\n",
              "    </tr>\n",
              "  </thead>\n",
              "  <tbody>\n",
              "    <tr>\n",
              "      <th>641375</th>\n",
              "      <td>Panama</td>\n",
              "      <td>PAN</td>\n",
              "      <td>Adjusted net enrolment rate, lower secondary, ...</td>\n",
              "      <td>UIS.NERA.2</td>\n",
              "      <td>NaN</td>\n",
              "      <td>NaN</td>\n",
              "      <td>NaN</td>\n",
              "      <td>NaN</td>\n",
              "      <td>NaN</td>\n",
              "      <td>NaN</td>\n",
              "      <td>...</td>\n",
              "      <td>NaN</td>\n",
              "      <td>NaN</td>\n",
              "      <td>NaN</td>\n",
              "      <td>NaN</td>\n",
              "      <td>NaN</td>\n",
              "      <td>NaN</td>\n",
              "      <td>NaN</td>\n",
              "      <td>NaN</td>\n",
              "      <td>NaN</td>\n",
              "      <td>NaN</td>\n",
              "    </tr>\n",
              "    <tr>\n",
              "      <th>641376</th>\n",
              "      <td>Panama</td>\n",
              "      <td>PAN</td>\n",
              "      <td>Adjusted net enrolment rate, lower secondary, ...</td>\n",
              "      <td>UIS.NERA.2.F</td>\n",
              "      <td>NaN</td>\n",
              "      <td>NaN</td>\n",
              "      <td>NaN</td>\n",
              "      <td>NaN</td>\n",
              "      <td>NaN</td>\n",
              "      <td>NaN</td>\n",
              "      <td>...</td>\n",
              "      <td>NaN</td>\n",
              "      <td>NaN</td>\n",
              "      <td>NaN</td>\n",
              "      <td>NaN</td>\n",
              "      <td>NaN</td>\n",
              "      <td>NaN</td>\n",
              "      <td>NaN</td>\n",
              "      <td>NaN</td>\n",
              "      <td>NaN</td>\n",
              "      <td>NaN</td>\n",
              "    </tr>\n",
              "    <tr>\n",
              "      <th>641377</th>\n",
              "      <td>Panama</td>\n",
              "      <td>PAN</td>\n",
              "      <td>Adjusted net enrolment rate, lower secondary, ...</td>\n",
              "      <td>UIS.NERA.2.GPI</td>\n",
              "      <td>NaN</td>\n",
              "      <td>NaN</td>\n",
              "      <td>NaN</td>\n",
              "      <td>NaN</td>\n",
              "      <td>NaN</td>\n",
              "      <td>NaN</td>\n",
              "      <td>...</td>\n",
              "      <td>NaN</td>\n",
              "      <td>NaN</td>\n",
              "      <td>NaN</td>\n",
              "      <td>NaN</td>\n",
              "      <td>NaN</td>\n",
              "      <td>NaN</td>\n",
              "      <td>NaN</td>\n",
              "      <td>NaN</td>\n",
              "      <td>NaN</td>\n",
              "      <td>NaN</td>\n",
              "    </tr>\n",
              "    <tr>\n",
              "      <th>641378</th>\n",
              "      <td>Panama</td>\n",
              "      <td>PAN</td>\n",
              "      <td>Adjusted net enrolment rate, lower secondary, ...</td>\n",
              "      <td>UIS.NERA.2.M</td>\n",
              "      <td>NaN</td>\n",
              "      <td>NaN</td>\n",
              "      <td>NaN</td>\n",
              "      <td>NaN</td>\n",
              "      <td>NaN</td>\n",
              "      <td>NaN</td>\n",
              "      <td>...</td>\n",
              "      <td>NaN</td>\n",
              "      <td>NaN</td>\n",
              "      <td>NaN</td>\n",
              "      <td>NaN</td>\n",
              "      <td>NaN</td>\n",
              "      <td>NaN</td>\n",
              "      <td>NaN</td>\n",
              "      <td>NaN</td>\n",
              "      <td>NaN</td>\n",
              "      <td>NaN</td>\n",
              "    </tr>\n",
              "    <tr>\n",
              "      <th>641379</th>\n",
              "      <td>Panama</td>\n",
              "      <td>PAN</td>\n",
              "      <td>Adjusted net enrolment rate, primary, both sex...</td>\n",
              "      <td>SE.PRM.TENR</td>\n",
              "      <td>NaN</td>\n",
              "      <td>NaN</td>\n",
              "      <td>NaN</td>\n",
              "      <td>NaN</td>\n",
              "      <td>NaN</td>\n",
              "      <td>NaN</td>\n",
              "      <td>...</td>\n",
              "      <td>NaN</td>\n",
              "      <td>NaN</td>\n",
              "      <td>NaN</td>\n",
              "      <td>NaN</td>\n",
              "      <td>NaN</td>\n",
              "      <td>NaN</td>\n",
              "      <td>NaN</td>\n",
              "      <td>NaN</td>\n",
              "      <td>NaN</td>\n",
              "      <td>NaN</td>\n",
              "    </tr>\n",
              "  </tbody>\n",
              "</table>\n",
              "<p>5 rows × 70 columns</p>\n",
              "</div>"
            ],
            "text/plain": [
              "       Country Name Country Code  \\\n",
              "641375       Panama          PAN   \n",
              "641376       Panama          PAN   \n",
              "641377       Panama          PAN   \n",
              "641378       Panama          PAN   \n",
              "641379       Panama          PAN   \n",
              "\n",
              "                                           Indicator Name  Indicator Code  \\\n",
              "641375  Adjusted net enrolment rate, lower secondary, ...      UIS.NERA.2   \n",
              "641376  Adjusted net enrolment rate, lower secondary, ...    UIS.NERA.2.F   \n",
              "641377  Adjusted net enrolment rate, lower secondary, ...  UIS.NERA.2.GPI   \n",
              "641378  Adjusted net enrolment rate, lower secondary, ...    UIS.NERA.2.M   \n",
              "641379  Adjusted net enrolment rate, primary, both sex...     SE.PRM.TENR   \n",
              "\n",
              "        1970  1971  1972  1973  1974  1975     ...       2060  2065  2070  \\\n",
              "641375   NaN   NaN   NaN   NaN   NaN   NaN     ...        NaN   NaN   NaN   \n",
              "641376   NaN   NaN   NaN   NaN   NaN   NaN     ...        NaN   NaN   NaN   \n",
              "641377   NaN   NaN   NaN   NaN   NaN   NaN     ...        NaN   NaN   NaN   \n",
              "641378   NaN   NaN   NaN   NaN   NaN   NaN     ...        NaN   NaN   NaN   \n",
              "641379   NaN   NaN   NaN   NaN   NaN   NaN     ...        NaN   NaN   NaN   \n",
              "\n",
              "        2075  2080  2085  2090  2095  2100  Unnamed: 69  \n",
              "641375   NaN   NaN   NaN   NaN   NaN   NaN          NaN  \n",
              "641376   NaN   NaN   NaN   NaN   NaN   NaN          NaN  \n",
              "641377   NaN   NaN   NaN   NaN   NaN   NaN          NaN  \n",
              "641378   NaN   NaN   NaN   NaN   NaN   NaN          NaN  \n",
              "641379   NaN   NaN   NaN   NaN   NaN   NaN          NaN  \n",
              "\n",
              "[5 rows x 70 columns]"
            ]
          },
          "metadata": {
            "tags": []
          },
          "execution_count": 35
        }
      ]
    },
    {
      "metadata": {
        "id": "cAoJKNhQ-_Ks",
        "colab_type": "code",
        "colab": {
          "autoexec": {
            "startup": false,
            "wait_interval": 0
          },
          "base_uri": "https://localhost:8080/",
          "height": 35
        },
        "outputId": "5000eb93-88f8-485f-ddc3-063d3b3cfb47",
        "executionInfo": {
          "status": "ok",
          "timestamp": 1532380342826,
          "user_tz": 300,
          "elapsed": 253,
          "user": {
            "displayName": "Ezequiel Orlando Aguilar González",
            "photoUrl": "//lh6.googleusercontent.com/-69UlXCjGhhg/AAAAAAAAAAI/AAAAAAAAN2c/hXtuliUqL_8/s50-c-k-no/photo.jpg",
            "userId": "101628293694401762827"
          }
        }
      },
      "cell_type": "code",
      "source": [
        "panama.shape"
      ],
      "execution_count": 38,
      "outputs": [
        {
          "output_type": "execute_result",
          "data": {
            "text/plain": [
              "(3665, 70)"
            ]
          },
          "metadata": {
            "tags": []
          },
          "execution_count": 38
        }
      ]
    },
    {
      "metadata": {
        "id": "NGMaRX2m_Wq0",
        "colab_type": "code",
        "colab": {
          "autoexec": {
            "startup": false,
            "wait_interval": 0
          },
          "base_uri": "https://localhost:8080/",
          "height": 35
        },
        "outputId": "1e9d0a4a-a5be-4de2-b025-a05aa8e36509",
        "executionInfo": {
          "status": "ok",
          "timestamp": 1532380438513,
          "user_tz": 300,
          "elapsed": 367,
          "user": {
            "displayName": "Ezequiel Orlando Aguilar González",
            "photoUrl": "//lh6.googleusercontent.com/-69UlXCjGhhg/AAAAAAAAAAI/AAAAAAAAN2c/hXtuliUqL_8/s50-c-k-no/photo.jpg",
            "userId": "101628293694401762827"
          }
        }
      },
      "cell_type": "code",
      "source": [
        "panama_clean = panama.dropna('index', thresh = 5)\n",
        "panama_clean.shape"
      ],
      "execution_count": 40,
      "outputs": [
        {
          "output_type": "execute_result",
          "data": {
            "text/plain": [
              "(1982, 70)"
            ]
          },
          "metadata": {
            "tags": []
          },
          "execution_count": 40
        }
      ]
    },
    {
      "metadata": {
        "id": "hJTC3B8J_fUP",
        "colab_type": "code",
        "colab": {
          "autoexec": {
            "startup": false,
            "wait_interval": 0
          },
          "base_uri": "https://localhost:8080/",
          "height": 695
        },
        "outputId": "1992e889-8e5f-4472-d827-b7c60f849db0",
        "executionInfo": {
          "status": "ok",
          "timestamp": 1532380461177,
          "user_tz": 300,
          "elapsed": 299,
          "user": {
            "displayName": "Ezequiel Orlando Aguilar González",
            "photoUrl": "//lh6.googleusercontent.com/-69UlXCjGhhg/AAAAAAAAAAI/AAAAAAAAN2c/hXtuliUqL_8/s50-c-k-no/photo.jpg",
            "userId": "101628293694401762827"
          }
        }
      },
      "cell_type": "code",
      "source": [
        "panama_clean.head()"
      ],
      "execution_count": 41,
      "outputs": [
        {
          "output_type": "execute_result",
          "data": {
            "text/html": [
              "<div>\n",
              "<style scoped>\n",
              "    .dataframe tbody tr th:only-of-type {\n",
              "        vertical-align: middle;\n",
              "    }\n",
              "\n",
              "    .dataframe tbody tr th {\n",
              "        vertical-align: top;\n",
              "    }\n",
              "\n",
              "    .dataframe thead th {\n",
              "        text-align: right;\n",
              "    }\n",
              "</style>\n",
              "<table border=\"1\" class=\"dataframe\">\n",
              "  <thead>\n",
              "    <tr style=\"text-align: right;\">\n",
              "      <th></th>\n",
              "      <th>Country Name</th>\n",
              "      <th>Country Code</th>\n",
              "      <th>Indicator Name</th>\n",
              "      <th>Indicator Code</th>\n",
              "      <th>1970</th>\n",
              "      <th>1971</th>\n",
              "      <th>1972</th>\n",
              "      <th>1973</th>\n",
              "      <th>1974</th>\n",
              "      <th>1975</th>\n",
              "      <th>...</th>\n",
              "      <th>2060</th>\n",
              "      <th>2065</th>\n",
              "      <th>2070</th>\n",
              "      <th>2075</th>\n",
              "      <th>2080</th>\n",
              "      <th>2085</th>\n",
              "      <th>2090</th>\n",
              "      <th>2095</th>\n",
              "      <th>2100</th>\n",
              "      <th>Unnamed: 69</th>\n",
              "    </tr>\n",
              "  </thead>\n",
              "  <tbody>\n",
              "    <tr>\n",
              "      <th>641375</th>\n",
              "      <td>Panama</td>\n",
              "      <td>PAN</td>\n",
              "      <td>Adjusted net enrolment rate, lower secondary, ...</td>\n",
              "      <td>UIS.NERA.2</td>\n",
              "      <td>NaN</td>\n",
              "      <td>NaN</td>\n",
              "      <td>NaN</td>\n",
              "      <td>NaN</td>\n",
              "      <td>NaN</td>\n",
              "      <td>NaN</td>\n",
              "      <td>...</td>\n",
              "      <td>NaN</td>\n",
              "      <td>NaN</td>\n",
              "      <td>NaN</td>\n",
              "      <td>NaN</td>\n",
              "      <td>NaN</td>\n",
              "      <td>NaN</td>\n",
              "      <td>NaN</td>\n",
              "      <td>NaN</td>\n",
              "      <td>NaN</td>\n",
              "      <td>NaN</td>\n",
              "    </tr>\n",
              "    <tr>\n",
              "      <th>641376</th>\n",
              "      <td>Panama</td>\n",
              "      <td>PAN</td>\n",
              "      <td>Adjusted net enrolment rate, lower secondary, ...</td>\n",
              "      <td>UIS.NERA.2.F</td>\n",
              "      <td>NaN</td>\n",
              "      <td>NaN</td>\n",
              "      <td>NaN</td>\n",
              "      <td>NaN</td>\n",
              "      <td>NaN</td>\n",
              "      <td>NaN</td>\n",
              "      <td>...</td>\n",
              "      <td>NaN</td>\n",
              "      <td>NaN</td>\n",
              "      <td>NaN</td>\n",
              "      <td>NaN</td>\n",
              "      <td>NaN</td>\n",
              "      <td>NaN</td>\n",
              "      <td>NaN</td>\n",
              "      <td>NaN</td>\n",
              "      <td>NaN</td>\n",
              "      <td>NaN</td>\n",
              "    </tr>\n",
              "    <tr>\n",
              "      <th>641377</th>\n",
              "      <td>Panama</td>\n",
              "      <td>PAN</td>\n",
              "      <td>Adjusted net enrolment rate, lower secondary, ...</td>\n",
              "      <td>UIS.NERA.2.GPI</td>\n",
              "      <td>NaN</td>\n",
              "      <td>NaN</td>\n",
              "      <td>NaN</td>\n",
              "      <td>NaN</td>\n",
              "      <td>NaN</td>\n",
              "      <td>NaN</td>\n",
              "      <td>...</td>\n",
              "      <td>NaN</td>\n",
              "      <td>NaN</td>\n",
              "      <td>NaN</td>\n",
              "      <td>NaN</td>\n",
              "      <td>NaN</td>\n",
              "      <td>NaN</td>\n",
              "      <td>NaN</td>\n",
              "      <td>NaN</td>\n",
              "      <td>NaN</td>\n",
              "      <td>NaN</td>\n",
              "    </tr>\n",
              "    <tr>\n",
              "      <th>641378</th>\n",
              "      <td>Panama</td>\n",
              "      <td>PAN</td>\n",
              "      <td>Adjusted net enrolment rate, lower secondary, ...</td>\n",
              "      <td>UIS.NERA.2.M</td>\n",
              "      <td>NaN</td>\n",
              "      <td>NaN</td>\n",
              "      <td>NaN</td>\n",
              "      <td>NaN</td>\n",
              "      <td>NaN</td>\n",
              "      <td>NaN</td>\n",
              "      <td>...</td>\n",
              "      <td>NaN</td>\n",
              "      <td>NaN</td>\n",
              "      <td>NaN</td>\n",
              "      <td>NaN</td>\n",
              "      <td>NaN</td>\n",
              "      <td>NaN</td>\n",
              "      <td>NaN</td>\n",
              "      <td>NaN</td>\n",
              "      <td>NaN</td>\n",
              "      <td>NaN</td>\n",
              "    </tr>\n",
              "    <tr>\n",
              "      <th>641379</th>\n",
              "      <td>Panama</td>\n",
              "      <td>PAN</td>\n",
              "      <td>Adjusted net enrolment rate, primary, both sex...</td>\n",
              "      <td>SE.PRM.TENR</td>\n",
              "      <td>NaN</td>\n",
              "      <td>NaN</td>\n",
              "      <td>NaN</td>\n",
              "      <td>NaN</td>\n",
              "      <td>NaN</td>\n",
              "      <td>NaN</td>\n",
              "      <td>...</td>\n",
              "      <td>NaN</td>\n",
              "      <td>NaN</td>\n",
              "      <td>NaN</td>\n",
              "      <td>NaN</td>\n",
              "      <td>NaN</td>\n",
              "      <td>NaN</td>\n",
              "      <td>NaN</td>\n",
              "      <td>NaN</td>\n",
              "      <td>NaN</td>\n",
              "      <td>NaN</td>\n",
              "    </tr>\n",
              "  </tbody>\n",
              "</table>\n",
              "<p>5 rows × 70 columns</p>\n",
              "</div>"
            ],
            "text/plain": [
              "       Country Name Country Code  \\\n",
              "641375       Panama          PAN   \n",
              "641376       Panama          PAN   \n",
              "641377       Panama          PAN   \n",
              "641378       Panama          PAN   \n",
              "641379       Panama          PAN   \n",
              "\n",
              "                                           Indicator Name  Indicator Code  \\\n",
              "641375  Adjusted net enrolment rate, lower secondary, ...      UIS.NERA.2   \n",
              "641376  Adjusted net enrolment rate, lower secondary, ...    UIS.NERA.2.F   \n",
              "641377  Adjusted net enrolment rate, lower secondary, ...  UIS.NERA.2.GPI   \n",
              "641378  Adjusted net enrolment rate, lower secondary, ...    UIS.NERA.2.M   \n",
              "641379  Adjusted net enrolment rate, primary, both sex...     SE.PRM.TENR   \n",
              "\n",
              "        1970  1971  1972  1973  1974  1975     ...       2060  2065  2070  \\\n",
              "641375   NaN   NaN   NaN   NaN   NaN   NaN     ...        NaN   NaN   NaN   \n",
              "641376   NaN   NaN   NaN   NaN   NaN   NaN     ...        NaN   NaN   NaN   \n",
              "641377   NaN   NaN   NaN   NaN   NaN   NaN     ...        NaN   NaN   NaN   \n",
              "641378   NaN   NaN   NaN   NaN   NaN   NaN     ...        NaN   NaN   NaN   \n",
              "641379   NaN   NaN   NaN   NaN   NaN   NaN     ...        NaN   NaN   NaN   \n",
              "\n",
              "        2075  2080  2085  2090  2095  2100  Unnamed: 69  \n",
              "641375   NaN   NaN   NaN   NaN   NaN   NaN          NaN  \n",
              "641376   NaN   NaN   NaN   NaN   NaN   NaN          NaN  \n",
              "641377   NaN   NaN   NaN   NaN   NaN   NaN          NaN  \n",
              "641378   NaN   NaN   NaN   NaN   NaN   NaN          NaN  \n",
              "641379   NaN   NaN   NaN   NaN   NaN   NaN          NaN  \n",
              "\n",
              "[5 rows x 70 columns]"
            ]
          },
          "metadata": {
            "tags": []
          },
          "execution_count": 41
        }
      ]
    },
    {
      "metadata": {
        "id": "5JnfZS4iRNuy",
        "colab_type": "text"
      },
      "cell_type": "markdown",
      "source": [
        "## Missing values per year"
      ]
    },
    {
      "metadata": {
        "id": "3IYMh3jfA2c6",
        "colab_type": "code",
        "colab": {
          "autoexec": {
            "startup": false,
            "wait_interval": 0
          },
          "base_uri": "https://localhost:8080/",
          "height": 442
        },
        "outputId": "0a2bab85-ff64-4b2d-96d0-667c45f3c150",
        "executionInfo": {
          "status": "ok",
          "timestamp": 1532381259394,
          "user_tz": 300,
          "elapsed": 2878,
          "user": {
            "displayName": "Ezequiel Orlando Aguilar González",
            "photoUrl": "//lh6.googleusercontent.com/-69UlXCjGhhg/AAAAAAAAAAI/AAAAAAAAN2c/hXtuliUqL_8/s50-c-k-no/photo.jpg",
            "userId": "101628293694401762827"
          }
        }
      },
      "cell_type": "code",
      "source": [
        "present_missing = project.loc[:,'1977':'2017'].notnull().sum()/len(project)*100\n",
        "future_missing = project.loc[:,'2025':].notnull().sum()/len(project)*100\n",
        "plt.figure(figsize=(10,7))\n",
        "plt.subplot(121)\n",
        "present_missing.plot(kind='barh', color='green')\n",
        "plt.title('Missing Data (% of Data Rows)')\n",
        "plt.ylabel('Column')\n",
        "plt.subplot(122)\n",
        "future_missing.plot(kind='barh', color='limegreen')\n",
        "plt.title('Missing Data (% of Data Rows)')\n",
        "plt.show()"
      ],
      "execution_count": 48,
      "outputs": [
        {
          "output_type": "display_data",
          "data": {
            "image/png": "[encoded data removed]",
            "text/plain": [
              "<matplotlib.figure.Figure at 0x7fa95ed01128>"
            ]
          },
          "metadata": {
            "tags": []
          }
        }
      ]
    },
    {
      "metadata": {
        "id": "_PFsVGFbRd-j",
        "colab_type": "text"
      },
      "cell_type": "markdown",
      "source": [
        "## Finding the types of PISA assessments"
      ]
    },
    {
      "metadata": {
        "id": "5Z9TuPzyIrLr",
        "colab_type": "code",
        "colab": {
          "autoexec": {
            "startup": false,
            "wait_interval": 0
          },
          "base_uri": "https://localhost:8080/",
          "height": 197
        },
        "outputId": "42d93ccd-3059-406d-9a88-4f9abc92f95b",
        "executionInfo": {
          "status": "ok",
          "timestamp": 1532384420789,
          "user_tz": 300,
          "elapsed": 281,
          "user": {
            "displayName": "Ezequiel Orlando Aguilar González",
            "photoUrl": "//lh6.googleusercontent.com/-69UlXCjGhhg/AAAAAAAAAAI/AAAAAAAAN2c/hXtuliUqL_8/s50-c-k-no/photo.jpg",
            "userId": "101628293694401762827"
          }
        }
      },
      "cell_type": "code",
      "source": [
        "# Indicators with PISA(programme for international student assessment) names\n",
        "indicators[indicators['Indicator Name'].str.contains('PISA')].head()"
      ],
      "execution_count": 56,
      "outputs": [
        {
          "output_type": "execute_result",
          "data": {
            "text/html": [
              "<div>\n",
              "<style scoped>\n",
              "    .dataframe tbody tr th:only-of-type {\n",
              "        vertical-align: middle;\n",
              "    }\n",
              "\n",
              "    .dataframe tbody tr th {\n",
              "        vertical-align: top;\n",
              "    }\n",
              "\n",
              "    .dataframe thead th {\n",
              "        text-align: right;\n",
              "    }\n",
              "</style>\n",
              "<table border=\"1\" class=\"dataframe\">\n",
              "  <thead>\n",
              "    <tr style=\"text-align: right;\">\n",
              "      <th></th>\n",
              "      <th>Indicator Name</th>\n",
              "      <th>Indicator Code</th>\n",
              "    </tr>\n",
              "  </thead>\n",
              "  <tbody>\n",
              "    <tr>\n",
              "      <th>2208</th>\n",
              "      <td>PISA: 15-year-olds by mathematics proficiency ...</td>\n",
              "      <td>LO.PISA.MAT.0</td>\n",
              "    </tr>\n",
              "    <tr>\n",
              "      <th>2209</th>\n",
              "      <td>PISA: 15-year-olds by mathematics proficiency ...</td>\n",
              "      <td>LO.PISA.MAT.1</td>\n",
              "    </tr>\n",
              "    <tr>\n",
              "      <th>2210</th>\n",
              "      <td>PISA: 15-year-olds by mathematics proficiency ...</td>\n",
              "      <td>LO.PISA.MAT.2</td>\n",
              "    </tr>\n",
              "    <tr>\n",
              "      <th>2211</th>\n",
              "      <td>PISA: 15-year-olds by mathematics proficiency ...</td>\n",
              "      <td>LO.PISA.MAT.3</td>\n",
              "    </tr>\n",
              "    <tr>\n",
              "      <th>2212</th>\n",
              "      <td>PISA: 15-year-olds by mathematics proficiency ...</td>\n",
              "      <td>LO.PISA.MAT.4</td>\n",
              "    </tr>\n",
              "  </tbody>\n",
              "</table>\n",
              "</div>"
            ],
            "text/plain": [
              "                                         Indicator Name Indicator Code\n",
              "2208  PISA: 15-year-olds by mathematics proficiency ...  LO.PISA.MAT.0\n",
              "2209  PISA: 15-year-olds by mathematics proficiency ...  LO.PISA.MAT.1\n",
              "2210  PISA: 15-year-olds by mathematics proficiency ...  LO.PISA.MAT.2\n",
              "2211  PISA: 15-year-olds by mathematics proficiency ...  LO.PISA.MAT.3\n",
              "2212  PISA: 15-year-olds by mathematics proficiency ...  LO.PISA.MAT.4"
            ]
          },
          "metadata": {
            "tags": []
          },
          "execution_count": 56
        }
      ]
    },
    {
      "metadata": {
        "id": "23pYspmIOrSl",
        "colab_type": "code",
        "colab": {
          "autoexec": {
            "startup": false,
            "wait_interval": 0
          }
        }
      },
      "cell_type": "code",
      "source": [
        "'LO.PISA.MAT.6' "
      ],
      "execution_count": 0,
      "outputs": []
    },
    {
      "metadata": {
        "id": "xDImHS6iJhNj",
        "colab_type": "code",
        "colab": {
          "autoexec": {
            "startup": false,
            "wait_interval": 0
          }
        }
      },
      "cell_type": "code",
      "source": [
        "lo_pisa_mat_6 = project.loc[project['Indicator Name']=='LO.PISA.MAT.6' ]\n",
        "lo_"
      ],
      "execution_count": 0,
      "outputs": []
    }
  ]
}