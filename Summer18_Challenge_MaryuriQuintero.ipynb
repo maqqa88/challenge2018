{
  "nbformat": 4,
  "nbformat_minor": 0,
  "metadata": {
    "colab": {
      "name": "Summer18-Challenge-MaryuriQuintero.ipynb",
      "version": "0.3.2",
      "views": {},
      "default_view": {},
      "provenance": []
    },
    "kernelspec": {
      "name": "python3",
      "display_name": "Python 3"
    }
  },
  "cells": [
    {
      "metadata": {
        "id": "bFmawAGNRzMx",
        "colab_type": "text"
      },
      "cell_type": "markdown",
      "source": [
        "# The Data Incubator Challenge 2018\n",
        "## Maryuri Quintero\n"
      ]
    },
    {
      "metadata": {
        "id": "Uct0dFZnR8fY",
        "colab_type": "code",
        "colab": {
          "autoexec": {
            "startup": false,
            "wait_interval": 0
          }
        }
      },
      "cell_type": "code",
      "source": [
        "from __future__ import print_function\n",
        "import os\n",
        "import pandas as pd\n",
        "import numpy as np\n",
        "%matplotlib inline\n",
        "from matplotlib import pyplot as plt"
      ],
      "execution_count": 0,
      "outputs": []
    },
    {
      "metadata": {
        "id": "CfuN6p8zSabn",
        "colab_type": "code",
        "colab": {
          "autoexec": {
            "startup": false,
            "wait_interval": 0
          },
          "resources": {
            "http://localhost:8080/nbextensions/google.colab/files.js": {
              "data": "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",
              "ok": true,
              "headers": [
                [
                  "content-type",
                  "application/javascript"
                ]
              ],
              "status": 200,
              "status_text": ""
            }
          },
          "base_uri": "https://localhost:8080/",
          "height": 91
        },
        "outputId": "cec33f12-f52d-4bd3-d815-b86ec933387c",
        "executionInfo": {
          "status": "ok",
          "timestamp": 1532371186760,
          "user_tz": 300,
          "elapsed": 73272,
          "user": {
            "displayName": "Ezequiel Orlando Aguilar González",
            "photoUrl": "//lh6.googleusercontent.com/-69UlXCjGhhg/AAAAAAAAAAI/AAAAAAAAN2c/hXtuliUqL_8/s50-c-k-no/photo.jpg",
            "userId": "101628293694401762827"
          }
        }
      },
      "cell_type": "code",
      "source": [
        "from google.colab import files\n",
        "\n",
        "uploaded = files.upload()\n",
        "\n",
        "for fn in uploaded.keys():\n",
        "  print('User uploaded file \"{name}\" with length {length} bytes'.format(\n",
        "      name=fn, length=len(uploaded[fn])))"
      ],
      "execution_count": 4,
      "outputs": [
        {
          "output_type": "display_data",
          "data": {
            "text/html": [
              "\n",
              "     <input type=\"file\" id=\"files-d59496dc-291d-47ca-8fe2-ffa8aae300c7\" name=\"files[]\" multiple disabled />\n",
              "     <output id=\"result-d59496dc-291d-47ca-8fe2-ffa8aae300c7\">\n",
              "      Upload widget is only available when the cell has been executed in the\n",
              "      current browser session. Please rerun this cell to enable.\n",
              "      </output>\n",
              "      <script src=\"/nbextensions/google.colab/files.js\"></script> "
            ],
            "text/plain": [
              "<IPython.core.display.HTML object>"
            ]
          },
          "metadata": {
            "tags": []
          }
        },
        {
          "output_type": "stream",
          "text": [
            "Saving Real-Time_Traffic_Incident_Reports.csv to Real-Time_Traffic_Incident_Reports.csv\n",
            "User uploaded file \"Real-Time_Traffic_Incident_Reports.csv\" with length 11622576 bytes\n"
          ],
          "name": "stdout"
        }
      ]
    },
    {
      "metadata": {
        "id": "hTuNZtisWWxJ",
        "colab_type": "code",
        "colab": {
          "autoexec": {
            "startup": false,
            "wait_interval": 0
          },
          "base_uri": "https://localhost:8080/",
          "height": 35
        },
        "outputId": "d7a2df98-1475-4c73-d8a1-37d96239b51b",
        "executionInfo": {
          "status": "ok",
          "timestamp": 1532371189591,
          "user_tz": 300,
          "elapsed": 559,
          "user": {
            "displayName": "Ezequiel Orlando Aguilar González",
            "photoUrl": "//lh6.googleusercontent.com/-69UlXCjGhhg/AAAAAAAAAAI/AAAAAAAAN2c/hXtuliUqL_8/s50-c-k-no/photo.jpg",
            "userId": "101628293694401762827"
          }
        }
      },
      "cell_type": "code",
      "source": [
        "file_name = \"Real-Time_Traffic_Incident_Reports.csv\"\n",
        "\n",
        "project = pd.read_csv(file_name)   #Importing dataset \n",
        " \n",
        "print(project.shape)"
      ],
      "execution_count": 5,
      "outputs": [
        {
          "output_type": "stream",
          "text": [
            "(56357, 9)\n"
          ],
          "name": "stdout"
        }
      ]
    },
    {
      "metadata": {
        "id": "_dIrTfZLcM_A",
        "colab_type": "code",
        "colab": {
          "autoexec": {
            "startup": false,
            "wait_interval": 0
          },
          "base_uri": "https://localhost:8080/",
          "height": 733
        },
        "outputId": "7c55afc1-6724-4913-fedb-8af8dd13b7f2",
        "executionInfo": {
          "status": "ok",
          "timestamp": 1532371216885,
          "user_tz": 300,
          "elapsed": 671,
          "user": {
            "displayName": "Ezequiel Orlando Aguilar González",
            "photoUrl": "//lh6.googleusercontent.com/-69UlXCjGhhg/AAAAAAAAAAI/AAAAAAAAN2c/hXtuliUqL_8/s50-c-k-no/photo.jpg",
            "userId": "101628293694401762827"
          }
        }
      },
      "cell_type": "code",
      "source": [
        "project.head(10)"
      ],
      "execution_count": 6,
      "outputs": [
        {
          "output_type": "execute_result",
          "data": {
            "text/html": [
              "<div>\n",
              "<style scoped>\n",
              "    .dataframe tbody tr th:only-of-type {\n",
              "        vertical-align: middle;\n",
              "    }\n",
              "\n",
              "    .dataframe tbody tr th {\n",
              "        vertical-align: top;\n",
              "    }\n",
              "\n",
              "    .dataframe thead th {\n",
              "        text-align: right;\n",
              "    }\n",
              "</style>\n",
              "<table border=\"1\" class=\"dataframe\">\n",
              "  <thead>\n",
              "    <tr style=\"text-align: right;\">\n",
              "      <th></th>\n",
              "      <th>Traffic Report ID</th>\n",
              "      <th>Published Date</th>\n",
              "      <th>Issue Reported</th>\n",
              "      <th>Location</th>\n",
              "      <th>Latitude</th>\n",
              "      <th>Longitude</th>\n",
              "      <th>Address</th>\n",
              "      <th>Status</th>\n",
              "      <th>Status Date</th>\n",
              "    </tr>\n",
              "  </thead>\n",
              "  <tbody>\n",
              "    <tr>\n",
              "      <th>0</th>\n",
              "      <td>05FA2DE99C48086B28D6E7A491A75F6F313AF79D_15287...</td>\n",
              "      <td>06/11/2018 08:55:21 PM +0000</td>\n",
              "      <td>Crash Urgent</td>\n",
              "      <td>(30.21674,-97.695304)</td>\n",
              "      <td>30.216740</td>\n",
              "      <td>-97.695304</td>\n",
              "      <td>7200-7645 E Ben White Blvd Eb</td>\n",
              "      <td>ARCHIVED</td>\n",
              "      <td>06/11/2018 09:50:04 PM +0000</td>\n",
              "    </tr>\n",
              "    <tr>\n",
              "      <th>1</th>\n",
              "      <td>C163BCD1CF90C984E9EDA4DBA311BCA369A7D1A1_15288...</td>\n",
              "      <td>06/13/2018 06:35:59 AM +0000</td>\n",
              "      <td>Crash Service</td>\n",
              "      <td>(30.283797,-97.741906)</td>\n",
              "      <td>30.283797</td>\n",
              "      <td>-97.741906</td>\n",
              "      <td>W 21ST ST &amp; GUADALUPE ST</td>\n",
              "      <td>ARCHIVED</td>\n",
              "      <td>06/13/2018 09:00:03 AM +0000</td>\n",
              "    </tr>\n",
              "    <tr>\n",
              "      <th>2</th>\n",
              "      <td>785A7925363BF133A7C5413C563F331C5E02CC69_15287...</td>\n",
              "      <td>06/11/2018 08:59:41 PM +0000</td>\n",
              "      <td>Crash Service</td>\n",
              "      <td>(30.441269,-97.66485)</td>\n",
              "      <td>30.441269</td>\n",
              "      <td>-97.664850</td>\n",
              "      <td>1434 W Wells Branch Pkwy</td>\n",
              "      <td>ARCHIVED</td>\n",
              "      <td>06/11/2018 09:05:03 PM +0000</td>\n",
              "    </tr>\n",
              "    <tr>\n",
              "      <th>3</th>\n",
              "      <td>07F97CC68EEBF81AFCD32F6FC0AAD7E1F17E0C00_15287...</td>\n",
              "      <td>06/11/2018 08:57:51 PM +0000</td>\n",
              "      <td>Traffic Hazard</td>\n",
              "      <td>(30.336877,-97.599632)</td>\n",
              "      <td>30.336877</td>\n",
              "      <td>-97.599632</td>\n",
              "      <td>0 E US 290 EB TO N 130 NB RAMP</td>\n",
              "      <td>ARCHIVED</td>\n",
              "      <td>06/11/2018 09:50:04 PM +0000</td>\n",
              "    </tr>\n",
              "    <tr>\n",
              "      <th>4</th>\n",
              "      <td>36E7ECFE17F4820835ACFADF14E0A7689A9974B1_15287...</td>\n",
              "      <td>06/11/2018 09:00:04 PM +0000</td>\n",
              "      <td>COLLISION</td>\n",
              "      <td>(30.376997,-97.580889)</td>\n",
              "      <td>30.376997</td>\n",
              "      <td>-97.580889</td>\n",
              "      <td>N SH 130 SVRD NB &amp; GREGG MANOR RD</td>\n",
              "      <td>ARCHIVED</td>\n",
              "      <td>06/11/2018 09:50:04 PM +0000</td>\n",
              "    </tr>\n",
              "    <tr>\n",
              "      <th>5</th>\n",
              "      <td>6B20382196FB454E9FD06A33E60142902A2F0706_15288...</td>\n",
              "      <td>06/13/2018 10:15:36 AM +0000</td>\n",
              "      <td>Traffic Hazard</td>\n",
              "      <td>(30.339593,-97.700963)</td>\n",
              "      <td>30.339593</td>\n",
              "      <td>-97.700963</td>\n",
              "      <td>400-717 E ANDERSON LN EB</td>\n",
              "      <td>ARCHIVED</td>\n",
              "      <td>06/13/2018 11:20:03 AM +0000</td>\n",
              "    </tr>\n",
              "    <tr>\n",
              "      <th>6</th>\n",
              "      <td>1DE21BF95D29848D9A9885DC2392905DB2EA88A8_15122...</td>\n",
              "      <td>12/02/2017 03:23:00 PM +0000</td>\n",
              "      <td>Traffic Hazard</td>\n",
              "      <td>(30.315071,-97.756756)</td>\n",
              "      <td>30.315071</td>\n",
              "      <td>-97.756756</td>\n",
              "      <td>4100 N Mopac Expy Sb</td>\n",
              "      <td>ARCHIVED</td>\n",
              "      <td>12/02/2017 03:40:00 PM +0000</td>\n",
              "    </tr>\n",
              "    <tr>\n",
              "      <th>7</th>\n",
              "      <td>4F221EE9A76B15F3F2737E7344CA4453902FB586_15283...</td>\n",
              "      <td>06/07/2018 04:24:00 PM +0000</td>\n",
              "      <td>Crash Service</td>\n",
              "      <td>(30.221427,-97.83638)</td>\n",
              "      <td>30.221427</td>\n",
              "      <td>-97.836380</td>\n",
              "      <td>6600 S Mopac Expy Svrd Sb</td>\n",
              "      <td>ARCHIVED</td>\n",
              "      <td>06/07/2018 04:30:00 PM +0000</td>\n",
              "    </tr>\n",
              "    <tr>\n",
              "      <th>8</th>\n",
              "      <td>0311E1791C1FE92ECD3215FA0472BCE6BF2B252D_15283...</td>\n",
              "      <td>06/07/2018 05:49:00 PM +0000</td>\n",
              "      <td>Crash Urgent</td>\n",
              "      <td>(30.406603,-97.852475)</td>\n",
              "      <td>30.406603</td>\n",
              "      <td>-97.852475</td>\n",
              "      <td>7400-7425 N Fm 620 Rd</td>\n",
              "      <td>ARCHIVED</td>\n",
              "      <td>06/07/2018 05:55:00 PM +0000</td>\n",
              "    </tr>\n",
              "    <tr>\n",
              "      <th>9</th>\n",
              "      <td>278BDAB57253765B3AB458A7D9295ABF2F42FFB6_15283...</td>\n",
              "      <td>06/07/2018 06:12:00 PM +0000</td>\n",
              "      <td>Traffic Hazard</td>\n",
              "      <td>(30.328363,-97.677647)</td>\n",
              "      <td>30.328363</td>\n",
              "      <td>-97.677647</td>\n",
              "      <td>1000-2409 E Anderson Ln Eb</td>\n",
              "      <td>ARCHIVED</td>\n",
              "      <td>06/07/2018 06:15:00 PM +0000</td>\n",
              "    </tr>\n",
              "  </tbody>\n",
              "</table>\n",
              "</div>"
            ],
            "text/plain": [
              "                                   Traffic Report ID  \\\n",
              "0  05FA2DE99C48086B28D6E7A491A75F6F313AF79D_15287...   \n",
              "1  C163BCD1CF90C984E9EDA4DBA311BCA369A7D1A1_15288...   \n",
              "2  785A7925363BF133A7C5413C563F331C5E02CC69_15287...   \n",
              "3  07F97CC68EEBF81AFCD32F6FC0AAD7E1F17E0C00_15287...   \n",
              "4  36E7ECFE17F4820835ACFADF14E0A7689A9974B1_15287...   \n",
              "5  6B20382196FB454E9FD06A33E60142902A2F0706_15288...   \n",
              "6  1DE21BF95D29848D9A9885DC2392905DB2EA88A8_15122...   \n",
              "7  4F221EE9A76B15F3F2737E7344CA4453902FB586_15283...   \n",
              "8  0311E1791C1FE92ECD3215FA0472BCE6BF2B252D_15283...   \n",
              "9  278BDAB57253765B3AB458A7D9295ABF2F42FFB6_15283...   \n",
              "\n",
              "                 Published Date  Issue Reported                Location  \\\n",
              "0  06/11/2018 08:55:21 PM +0000    Crash Urgent   (30.21674,-97.695304)   \n",
              "1  06/13/2018 06:35:59 AM +0000   Crash Service  (30.283797,-97.741906)   \n",
              "2  06/11/2018 08:59:41 PM +0000   Crash Service   (30.441269,-97.66485)   \n",
              "3  06/11/2018 08:57:51 PM +0000  Traffic Hazard  (30.336877,-97.599632)   \n",
              "4  06/11/2018 09:00:04 PM +0000       COLLISION  (30.376997,-97.580889)   \n",
              "5  06/13/2018 10:15:36 AM +0000  Traffic Hazard  (30.339593,-97.700963)   \n",
              "6  12/02/2017 03:23:00 PM +0000  Traffic Hazard  (30.315071,-97.756756)   \n",
              "7  06/07/2018 04:24:00 PM +0000   Crash Service   (30.221427,-97.83638)   \n",
              "8  06/07/2018 05:49:00 PM +0000    Crash Urgent  (30.406603,-97.852475)   \n",
              "9  06/07/2018 06:12:00 PM +0000  Traffic Hazard  (30.328363,-97.677647)   \n",
              "\n",
              "    Latitude  Longitude                            Address    Status  \\\n",
              "0  30.216740 -97.695304      7200-7645 E Ben White Blvd Eb  ARCHIVED   \n",
              "1  30.283797 -97.741906           W 21ST ST & GUADALUPE ST  ARCHIVED   \n",
              "2  30.441269 -97.664850           1434 W Wells Branch Pkwy  ARCHIVED   \n",
              "3  30.336877 -97.599632     0 E US 290 EB TO N 130 NB RAMP  ARCHIVED   \n",
              "4  30.376997 -97.580889  N SH 130 SVRD NB & GREGG MANOR RD  ARCHIVED   \n",
              "5  30.339593 -97.700963           400-717 E ANDERSON LN EB  ARCHIVED   \n",
              "6  30.315071 -97.756756               4100 N Mopac Expy Sb  ARCHIVED   \n",
              "7  30.221427 -97.836380          6600 S Mopac Expy Svrd Sb  ARCHIVED   \n",
              "8  30.406603 -97.852475              7400-7425 N Fm 620 Rd  ARCHIVED   \n",
              "9  30.328363 -97.677647         1000-2409 E Anderson Ln Eb  ARCHIVED   \n",
              "\n",
              "                    Status Date  \n",
              "0  06/11/2018 09:50:04 PM +0000  \n",
              "1  06/13/2018 09:00:03 AM +0000  \n",
              "2  06/11/2018 09:05:03 PM +0000  \n",
              "3  06/11/2018 09:50:04 PM +0000  \n",
              "4  06/11/2018 09:50:04 PM +0000  \n",
              "5  06/13/2018 11:20:03 AM +0000  \n",
              "6  12/02/2017 03:40:00 PM +0000  \n",
              "7  06/07/2018 04:30:00 PM +0000  \n",
              "8  06/07/2018 05:55:00 PM +0000  \n",
              "9  06/07/2018 06:15:00 PM +0000  "
            ]
          },
          "metadata": {
            "tags": []
          },
          "execution_count": 6
        }
      ]
    },
    {
      "metadata": {
        "id": "_bDu97JAcVKf",
        "colab_type": "code",
        "colab": {
          "autoexec": {
            "startup": false,
            "wait_interval": 0
          }
        }
      },
      "cell_type": "code",
      "source": [
        ""
      ],
      "execution_count": 0,
      "outputs": []
    },
    {
      "metadata": {
        "id": "zAMUhsZlcB3a",
        "colab_type": "code",
        "colab": {
          "autoexec": {
            "startup": false,
            "wait_interval": 0
          }
        }
      },
      "cell_type": "code",
      "source": [
        ""
      ],
      "execution_count": 0,
      "outputs": []
    }
  ]
}